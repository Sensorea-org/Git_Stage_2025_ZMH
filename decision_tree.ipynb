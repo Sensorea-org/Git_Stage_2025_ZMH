{
 "cells": [
  {
   "cell_type": "code",
   "id": "initial_id",
   "metadata": {
    "collapsed": true,
    "ExecuteTime": {
     "end_time": "2025-08-12T11:45:00.632133Z",
     "start_time": "2025-08-12T11:45:00.624784Z"
    }
   },
   "source": "import json",
   "outputs": [],
   "execution_count": 1
  },
  {
   "metadata": {
    "ExecuteTime": {
     "end_time": "2025-08-12T12:51:43.628593Z",
     "start_time": "2025-08-12T12:51:43.618605Z"
    }
   },
   "cell_type": "code",
   "source": [
    "def get_temp_chill():\n",
    "    temp = 2\n",
    "    return temp\n",
    "def get_temp_boiler():\n",
    "    temp = 2\n",
    "    return temp\n",
    "def GPXX_check():\n",
    "    temp = 2\n",
    "    return temp\n",
    "def room_check():\n",
    "    temp = 2\n",
    "    return temp\n",
    "def get_occupation():\n",
    "    temp = 2\n",
    "    return temp\n",
    "def get_elec_consumption():\n",
    "    temp = 2\n",
    "    return temp\n",
    "def get_gaz_consumption():\n",
    "    temp = 2\n",
    "    return temp"
   ],
   "id": "2aeb4268a6e0d054",
   "outputs": [],
   "execution_count": 37
  },
  {
   "metadata": {
    "ExecuteTime": {
     "end_time": "2025-08-12T13:49:11.958410Z",
     "start_time": "2025-08-12T13:49:11.946943Z"
    }
   },
   "cell_type": "code",
   "source": [
    "class node():\n",
    "    def __init__(self,type,text,options,on_action=False):\n",
    "        self.type=type\n",
    "        self.text=text\n",
    "        self.options =options\n",
    "        self.on_action=on_action\n",
    "    def next(self,model_output,clf,tree):\n",
    "        next_ = []\n",
    "        labels = [opt[\"label\"] for opt in main_node.options]\n",
    "        for i in range(len(clf.classes_)):\n",
    "            if clf.classes_[i] in labels:\n",
    "                next_.append(model_output[i])\n",
    "\n",
    "        pred_class = labels[next_.index(max(next_))]\n",
    "        confidence = max(next_)\n",
    "        print(confidence)\n",
    "        threshold = 1/len(clf.classes_)\n",
    "        print(threshold)\n",
    "        if confidence<threshold:\n",
    "            self.type=\"handoff\"\n",
    "            self.text=\"problem due to bad comprehension you can either repeat or call that number :\"\n",
    "            self.options = self.options.copy()\n",
    "            self.on_action=False\n",
    "        if confidence>threshold:\n",
    "            for i in tree[\"nodes\"].keys():\n",
    "                if i == pred_class:\n",
    "                    self.type=tree[\"nodes\"][i][\"type\"]\n",
    "                    self.text= tree[\"nodes\"][i][\"text\"]\n",
    "                    self.options = tree[\"nodes\"][i][\"options\"]\n",
    "                    self.on_action=tree[\"nodes\"][i][\"on_action\"]"
   ],
   "id": "ade17faf299e79a4",
   "outputs": [],
   "execution_count": 71
  },
  {
   "metadata": {
    "ExecuteTime": {
     "end_time": "2025-08-12T13:49:13.657400Z",
     "start_time": "2025-08-12T13:49:13.647440Z"
    }
   },
   "cell_type": "code",
   "source": [
    "tree_json = {\n",
    "    \"start\":\"acceuil\",\n",
    "    \"nodes\":{\n",
    "        \"acceuil\":{\"type\":\"message\",\n",
    "                               \"text\":\"welcom to the client service\",\n",
    "                               \"options\":[{\"label\":\"fixing\",\"next\":\"fixing\"},\n",
    "                                          {\"label\":\"consumption\",\"next\":\"consumption\"}],\n",
    "                               \"on_action\":False},\n",
    "        \"fixing\":{\"type\":\"message\",\n",
    "                                \"text\":\"welcom to the fixing client service\",\n",
    "                                \"options\":[{\"label\":\"chiller/boiler room\",\"next\":\"chiller/boiler_room\"},\n",
    "                                                {\"label\":\"ventilation\",\"next\":\"ventilation\"},\n",
    "                                                {\"label\":\"rooms\",\"next\":\"rooms\"}],\n",
    "                                \"on_action\":False},\n",
    "\n",
    "        \"chiller/boiler_room\":{\"type\":\"message\",\n",
    "                               \"text\":\"welcom to the chiller and boiler client service\",\n",
    "                               \"options\":[{\"label\":\"temperature at the ouput off the chiller\",\"next\":\"temp_chill\"},{\"label\":\"temperature at the ouput off the boiler\",\"next\":\"temp_boiler\"}],\n",
    "                               \"on_action\":False},\n",
    "        \"ventilation\":{\"type\":\"action\",\n",
    "                       \"text\":\"welcom to the ventilation client service\",\n",
    "                       \"options\":False,\n",
    "                       \"on_action\":GPXX_check},\n",
    "        \"rooms\":{\"type\":\"form\",\n",
    "                 \"text\":\"welcom to the room client service, please enter the room\",\n",
    "                 \"options\":[{\"label\":\"room checkup\",\"next\":\"rooms_check\"},],\n",
    "                 \"on_action\":room_check},\n",
    "\n",
    "        \"temp_chill\":{\"type\":\"action\",\n",
    "                              \"text\":False,\n",
    "                              \"options\":False,\n",
    "                              \"on_action\":get_temp_chill\n",
    "                              },\n",
    "        \"temp_boiler\":{\"type\":\"action\",\n",
    "                              \"text\":False,\n",
    "                              \"options\":False,\n",
    "                              \"on_action\":get_temp_boiler\n",
    "                              },\n",
    "        \"consumption\":{\"type\":\"message\",\n",
    "                                \"text\":\"welcom to the consumption client service\",\n",
    "                                \"options\":[{\"label\":\"actual consumption\",\"next\":\"get_consumption\"},\n",
    "                                                {\"label\":\"actual occupation\",\"next\":\"get_occupation\"}],\n",
    "                                \"on_action\":False},\n",
    "        \"get_consumption\":{\"type\":\"message\",\n",
    "                           \"text\":\"welcom to the consumption client service\",\n",
    "                           \"options\":[{\"label\":\"gaz consumption\",\"next\":\"get_gaz_consumption\"},\n",
    "                                    {\"label\":\"elec consumption\",\"next\":\"get_elec_consumption\"}],\n",
    "                           \"on_action\":False},\n",
    "        \"get_elec_consumption\":{\"type\":\"action\",\n",
    "                           \"text\":\"welcom to the elec consumption client service\",\n",
    "                           \"options\":False,\n",
    "                           \"on_action\":get_elec_consumption},\n",
    "        \"get_gaz_consumption\":{\"type\":\"action\",\n",
    "                           \"text\":\"welcom to the gaz consumption client service\",\n",
    "                           \"options\":False,\n",
    "                           \"on_action\":get_gaz_consumption},\n",
    "        \"get_occupation\":{\"type\":\"action\",\n",
    "                           \"text\":\"welcom to the occupation client service\",\n",
    "                           \"options\":False,\n",
    "                           \"on_action\":get_occupation},\n",
    "\n",
    "\n",
    "    }\n",
    "}\n"
   ],
   "id": "f8cb8c701b9361e2",
   "outputs": [],
   "execution_count": 72
  },
  {
   "metadata": {
    "ExecuteTime": {
     "end_time": "2025-08-12T13:49:14.244911Z",
     "start_time": "2025-08-12T13:49:14.228418Z"
    }
   },
   "cell_type": "code",
   "source": [
    "import pandas as pd\n",
    "\n",
    "data = {\n",
    "    \"text\": [\n",
    "        # acceuil\n",
    "        \"je veux réparer\",\n",
    "        \"j'ai besoin d'une réparation\",\n",
    "        \"service de maintenance\",\n",
    "        \"un technicien pour réparer\",\n",
    "        \"besoin d'une intervention technique\",\n",
    "        \"je veux connaître ma consommation\",\n",
    "        \"détails de consommation\",\n",
    "        \"consommation d'énergie\",\n",
    "        \"informations sur ma consommation\",\n",
    "        \"voir mes données de consommation\",\n",
    "\n",
    "        # fixing\n",
    "        \"problème avec la chaufferie\",\n",
    "        \"panne de chaudière\",\n",
    "        \"problème de refroidisseur\",\n",
    "        \"refroidisseur en panne\",\n",
    "        \"la chaufferie ne fonctionne pas\",\n",
    "        \"problème de ventilation\",\n",
    "        \"réparer la ventilation\",\n",
    "        \"climatisation défectueuse\",\n",
    "        \"ventilation en panne\",\n",
    "        \"flux d'air insuffisant\",\n",
    "        \"problème dans une chambre\",\n",
    "        \"panne dans une pièce\",\n",
    "        \"réparer une salle\",\n",
    "        \"défaut dans une pièce\",\n",
    "        \"intervention dans une salle\",\n",
    "\n",
    "        # chiller/boiler_room\n",
    "        \"quelle est la température du refroidisseur\",\n",
    "        \"donne la température du chiller\",\n",
    "        \"mesurer la température du refroidisseur\",\n",
    "        \"afficher la température du chiller\",\n",
    "        \"contrôler la température du refroidisseur\",\n",
    "        \"quelle est la température de la chaudière\",\n",
    "        \"donne la température du boiler\",\n",
    "        \"mesurer la température de la chaudière\",\n",
    "        \"afficher la température du boiler\",\n",
    "        \"contrôler la température de la chaudière\",\n",
    "\n",
    "        # rooms\n",
    "        \"vérifier l'état d'une salle\",\n",
    "        \"contrôle d'une chambre\",\n",
    "        \"checkup de la pièce\",\n",
    "        \"inspection de salle\",\n",
    "        \"diagnostic d'une pièce\",\n",
    "\n",
    "        # consumption\n",
    "        \"consommation actuelle\",\n",
    "        \"je veux connaître la consommation actuelle\",\n",
    "        \"données de consommation en temps réel\",\n",
    "        \"voir la consommation maintenant\",\n",
    "        \"consommation du moment\",\n",
    "        \"occupation actuelle\",\n",
    "        \"taux d'occupation\",\n",
    "        \"quelle est l'occupation actuelle\",\n",
    "        \"niveau d'occupation actuel\",\n",
    "        \"combien de personnes sont présentes\",\n",
    "\n",
    "        # get_consumption\n",
    "        \"consommation de gaz\",\n",
    "        \"quantité de gaz utilisée\",\n",
    "        \"vérifier la consommation de gaz\",\n",
    "        \"voir l'utilisation du gaz\",\n",
    "        \"données gaz en temps réel\",\n",
    "        \"consommation électrique\",\n",
    "        \"quantité d'électricité utilisée\",\n",
    "        \"vérifier la consommation électrique\",\n",
    "        \"voir l'utilisation de l'électricité\",\n",
    "        \"données électricité en temps réel\"\n",
    "    ],\n",
    "    \"intent\": [\n",
    "        # acceuil\n",
    "        \"fixing\",\n",
    "        \"fixing\",\n",
    "        \"fixing\",\n",
    "        \"fixing\",\n",
    "        \"fixing\",\n",
    "        \"consumption\",\n",
    "        \"consumption\",\n",
    "        \"consumption\",\n",
    "        \"consumption\",\n",
    "        \"consumption\",\n",
    "\n",
    "        # fixing\n",
    "        \"chiller/boiler_room\",\n",
    "        \"chiller/boiler_room\",\n",
    "        \"chiller/boiler_room\",\n",
    "        \"chiller/boiler_room\",\n",
    "        \"chiller/boiler_room\",\n",
    "        \"ventilation\",\n",
    "        \"ventilation\",\n",
    "        \"ventilation\",\n",
    "        \"ventilation\",\n",
    "        \"ventilation\",\n",
    "        \"rooms\",\n",
    "        \"rooms\",\n",
    "        \"rooms\",\n",
    "        \"rooms\",\n",
    "        \"rooms\",\n",
    "\n",
    "        # chiller/boiler_room\n",
    "        \"temp_chill\",\n",
    "        \"temp_chill\",\n",
    "        \"temp_chill\",\n",
    "        \"temp_chill\",\n",
    "        \"temp_chill\",\n",
    "        \"temp_boiler\",\n",
    "        \"temp_boiler\",\n",
    "        \"temp_boiler\",\n",
    "        \"temp_boiler\",\n",
    "        \"temp_boiler\",\n",
    "\n",
    "        # rooms\n",
    "        \"rooms_check\",\n",
    "        \"rooms_check\",\n",
    "        \"rooms_check\",\n",
    "        \"rooms_check\",\n",
    "        \"rooms_check\",\n",
    "\n",
    "        # consumption\n",
    "        \"get_consumption\",\n",
    "        \"get_consumption\",\n",
    "        \"get_consumption\",\n",
    "        \"get_consumption\",\n",
    "        \"get_consumption\",\n",
    "        \"get_occupation\",\n",
    "        \"get_occupation\",\n",
    "        \"get_occupation\",\n",
    "        \"get_occupation\",\n",
    "        \"get_occupation\",\n",
    "\n",
    "        # get_consumption\n",
    "        \"get_gaz_consumption\",\n",
    "        \"get_gaz_consumption\",\n",
    "        \"get_gaz_consumption\",\n",
    "        \"get_gaz_consumption\",\n",
    "        \"get_gaz_consumption\",\n",
    "        \"get_elec_consumption\",\n",
    "        \"get_elec_consumption\",\n",
    "        \"get_elec_consumption\",\n",
    "        \"get_elec_consumption\",\n",
    "        \"get_elec_consumption\"\n",
    "    ]\n",
    "}\n",
    "\n",
    "df = pd.DataFrame(data)\n",
    "print(df)\n"
   ],
   "id": "d7d269d98670af20",
   "outputs": [
    {
     "name": "stdout",
     "output_type": "stream",
     "text": [
      "                                          text                intent\n",
      "0                              je veux réparer                fixing\n",
      "1                 j'ai besoin d'une réparation                fixing\n",
      "2                       service de maintenance                fixing\n",
      "3                   un technicien pour réparer                fixing\n",
      "4          besoin d'une intervention technique                fixing\n",
      "5            je veux connaître ma consommation           consumption\n",
      "6                      détails de consommation           consumption\n",
      "7                       consommation d'énergie           consumption\n",
      "8             informations sur ma consommation           consumption\n",
      "9             voir mes données de consommation           consumption\n",
      "10                 problème avec la chaufferie   chiller/boiler_room\n",
      "11                          panne de chaudière   chiller/boiler_room\n",
      "12                   problème de refroidisseur   chiller/boiler_room\n",
      "13                      refroidisseur en panne   chiller/boiler_room\n",
      "14             la chaufferie ne fonctionne pas   chiller/boiler_room\n",
      "15                     problème de ventilation           ventilation\n",
      "16                      réparer la ventilation           ventilation\n",
      "17                   climatisation défectueuse           ventilation\n",
      "18                        ventilation en panne           ventilation\n",
      "19                      flux d'air insuffisant           ventilation\n",
      "20                   problème dans une chambre                 rooms\n",
      "21                        panne dans une pièce                 rooms\n",
      "22                           réparer une salle                 rooms\n",
      "23                       défaut dans une pièce                 rooms\n",
      "24                 intervention dans une salle                 rooms\n",
      "25  quelle est la température du refroidisseur            temp_chill\n",
      "26             donne la température du chiller            temp_chill\n",
      "27     mesurer la température du refroidisseur            temp_chill\n",
      "28          afficher la température du chiller            temp_chill\n",
      "29   contrôler la température du refroidisseur            temp_chill\n",
      "30   quelle est la température de la chaudière           temp_boiler\n",
      "31              donne la température du boiler           temp_boiler\n",
      "32      mesurer la température de la chaudière           temp_boiler\n",
      "33           afficher la température du boiler           temp_boiler\n",
      "34    contrôler la température de la chaudière           temp_boiler\n",
      "35                 vérifier l'état d'une salle           rooms_check\n",
      "36                      contrôle d'une chambre           rooms_check\n",
      "37                         checkup de la pièce           rooms_check\n",
      "38                         inspection de salle           rooms_check\n",
      "39                      diagnostic d'une pièce           rooms_check\n",
      "40                       consommation actuelle       get_consumption\n",
      "41  je veux connaître la consommation actuelle       get_consumption\n",
      "42       données de consommation en temps réel       get_consumption\n",
      "43             voir la consommation maintenant       get_consumption\n",
      "44                      consommation du moment       get_consumption\n",
      "45                         occupation actuelle        get_occupation\n",
      "46                           taux d'occupation        get_occupation\n",
      "47            quelle est l'occupation actuelle        get_occupation\n",
      "48                  niveau d'occupation actuel        get_occupation\n",
      "49         combien de personnes sont présentes        get_occupation\n",
      "50                         consommation de gaz   get_gaz_consumption\n",
      "51                    quantité de gaz utilisée   get_gaz_consumption\n",
      "52             vérifier la consommation de gaz   get_gaz_consumption\n",
      "53                   voir l'utilisation du gaz   get_gaz_consumption\n",
      "54                   données gaz en temps réel   get_gaz_consumption\n",
      "55                     consommation électrique  get_elec_consumption\n",
      "56             quantité d'électricité utilisée  get_elec_consumption\n",
      "57         vérifier la consommation électrique  get_elec_consumption\n",
      "58         voir l'utilisation de l'électricité  get_elec_consumption\n",
      "59           données électricité en temps réel  get_elec_consumption\n"
     ]
    }
   ],
   "execution_count": 73
  },
  {
   "metadata": {
    "ExecuteTime": {
     "end_time": "2025-08-12T13:49:14.928577Z",
     "start_time": "2025-08-12T13:49:14.916364Z"
    }
   },
   "cell_type": "code",
   "source": [
    "from sklearn.feature_extraction.text import TfidfVectorizer\n",
    "\n",
    "# Création du vectoriseur TF-IDF\n",
    "vectorizer = TfidfVectorizer(ngram_range=(1, 3), min_df=1)\n",
    "\n",
    "# Transformation du texte\n",
    "X = vectorizer.fit_transform(df[\"text\"])\n",
    "y = df[\"intent\"]\n",
    "print(\"Shape des vecteurs :\", X.shape)  # nb_exemples x nb_features\n",
    "print(\"Exemple de features :\", vectorizer.get_feature_names_out()[:10])\n"
   ],
   "id": "207c84ed8aa49413",
   "outputs": [
    {
     "name": "stdout",
     "output_type": "stream",
     "text": [
      "Shape des vecteurs : (60, 278)\n",
      "Exemple de features : ['actuel' 'actuelle' 'afficher' 'afficher la' 'afficher la température'\n",
      " 'ai' 'ai besoin' 'ai besoin une' 'air' 'air insuffisant']\n"
     ]
    }
   ],
   "execution_count": 74
  },
  {
   "metadata": {
    "ExecuteTime": {
     "end_time": "2025-08-12T13:49:15.616724Z",
     "start_time": "2025-08-12T13:49:15.575539Z"
    }
   },
   "cell_type": "code",
   "source": [
    "from sklearn.linear_model import LogisticRegression\n",
    "from sklearn.model_selection import train_test_split\n",
    "from sklearn.metrics import classification_report\n",
    "\n",
    "# Création et entraînement du modèle\n",
    "clf = LogisticRegression(max_iter=2000)\n",
    "clf.fit(X, y)\n",
    "\n",
    "X_train, X_test, y_train, y_test = train_test_split(X, y, stratify=y, test_size=0.3, random_state=42)\n",
    "clf.fit(X_train, y_train)\n",
    "y_pred = clf.predict(X_test)\n",
    "\n",
    "print(classification_report(y_test, y_pred,zero_division=0))\n",
    "print(\"Classes :\", clf.classes_)"
   ],
   "id": "6eedd2bb42f3f4e3",
   "outputs": [
    {
     "name": "stdout",
     "output_type": "stream",
     "text": [
      "                      precision    recall  f1-score   support\n",
      "\n",
      " chiller/boiler_room       0.50      1.00      0.67         1\n",
      "         consumption       0.00      0.00      0.00         2\n",
      "              fixing       0.25      1.00      0.40         1\n",
      "     get_consumption       0.00      0.00      0.00         2\n",
      "get_elec_consumption       1.00      0.50      0.67         2\n",
      " get_gaz_consumption       0.25      1.00      0.40         1\n",
      "      get_occupation       1.00      1.00      1.00         2\n",
      "               rooms       0.00      0.00      0.00         2\n",
      "         rooms_check       0.00      0.00      0.00         1\n",
      "         temp_boiler       0.00      0.00      0.00         1\n",
      "          temp_chill       0.50      1.00      0.67         1\n",
      "         ventilation       0.00      0.00      0.00         2\n",
      "\n",
      "            accuracy                           0.39        18\n",
      "           macro avg       0.29      0.46      0.32        18\n",
      "        weighted avg       0.31      0.39      0.30        18\n",
      "\n",
      "Classes : ['chiller/boiler_room' 'consumption' 'fixing' 'get_consumption'\n",
      " 'get_elec_consumption' 'get_gaz_consumption' 'get_occupation' 'rooms'\n",
      " 'rooms_check' 'temp_boiler' 'temp_chill' 'ventilation']\n"
     ]
    }
   ],
   "execution_count": 75
  },
  {
   "metadata": {
    "ExecuteTime": {
     "end_time": "2025-08-12T13:49:16.319731Z",
     "start_time": "2025-08-12T13:49:16.306112Z"
    }
   },
   "cell_type": "code",
   "source": [
    "def prediction(input):\n",
    "    X_new = vectorizer.transform(input)\n",
    "    proba = clf.predict_proba(X_new)[0]\n",
    "\n",
    "    return proba\n",
    "\n",
    "test = [\"comment va la ventilation ?\"]\n",
    "proba = prediction(test)\n",
    "print(proba)\n",
    "pred_class = clf.classes_[proba.argmax()]\n",
    "confidence = proba.max()\n",
    "print(f\"Intent prédit : {pred_class} (confiance {confidence:.2f})\")\n",
    "\n"
   ],
   "id": "db10322418f840d7",
   "outputs": [
    {
     "name": "stdout",
     "output_type": "stream",
     "text": [
      "[0.09945678 0.06897504 0.09235994 0.07132762 0.07351878 0.08724147\n",
      " 0.07045897 0.06488602 0.09587921 0.09787757 0.08821766 0.08980095]\n",
      "Intent prédit : chiller/boiler_room (confiance 0.10)\n"
     ]
    }
   ],
   "execution_count": 76
  },
  {
   "metadata": {
    "ExecuteTime": {
     "end_time": "2025-08-12T13:50:01.458527Z",
     "start_time": "2025-08-12T13:50:01.449338Z"
    }
   },
   "cell_type": "code",
   "source": [
    "init_node = tree_json[\"start\"]\n",
    "init_type = tree_json[\"nodes\"][init_node][\"type\"]\n",
    "init_text = tree_json[\"nodes\"][init_node][\"text\"]\n",
    "init_options = tree_json[\"nodes\"][init_node][\"options\"]\n",
    "init_on_action = tree_json[\"nodes\"][init_node][\"on_action\"]\n",
    "\n",
    "main_node = node(init_type,init_text,init_options,on_action=init_on_action)\n",
    "labels = [opt[\"label\"] for opt in main_node.options]\n",
    "print( [opt[\"label\"] for opt in main_node.options])\n",
    "\n"
   ],
   "id": "4f28d62c063e0790",
   "outputs": [
    {
     "name": "stdout",
     "output_type": "stream",
     "text": [
      "['fixing', 'consumption']\n"
     ]
    }
   ],
   "execution_count": 80
  },
  {
   "metadata": {
    "ExecuteTime": {
     "end_time": "2025-08-12T13:50:01.956665Z",
     "start_time": "2025-08-12T13:50:01.871739Z"
    }
   },
   "cell_type": "code",
   "source": [
    "print(main_node.text)\n",
    "print([opt[\"label\"] for opt in main_node.options])\n",
    "enter =(\"je veux la consommation\")\n",
    "proba = prediction(test)\n",
    "print(proba)\n",
    "main_node.next(proba,clf,tree_json)\n",
    "print(main_node.text)\n",
    "print([opt[\"label\"] for opt in main_node.options])\n",
    "enter =(\"je veux la consommation\")\n",
    "proba = prediction(test)\n",
    "print(proba)\n",
    "main_node.next(proba,clf,tree_json)\n",
    "print(main_node.text)"
   ],
   "id": "df8b1181d803083c",
   "outputs": [
    {
     "name": "stdout",
     "output_type": "stream",
     "text": [
      "welcom to the client service\n",
      "['fixing', 'consumption']\n",
      "[0.09945678 0.06897504 0.09235994 0.07132762 0.07351878 0.08724147\n",
      " 0.07045897 0.06488602 0.09587921 0.09787757 0.08821766 0.08980095]\n",
      "0.09235993751194488\n",
      "0.08333333333333333\n",
      "welcom to the consumption client service\n",
      "['actual consumption', 'actual occupation']\n",
      "[0.09945678 0.06897504 0.09235994 0.07132762 0.07351878 0.08724147\n",
      " 0.07045897 0.06488602 0.09587921 0.09787757 0.08821766 0.08980095]\n"
     ]
    },
    {
     "ename": "ValueError",
     "evalue": "max() arg is an empty sequence",
     "output_type": "error",
     "traceback": [
      "\u001B[31m---------------------------------------------------------------------------\u001B[39m",
      "\u001B[31mValueError\u001B[39m                                Traceback (most recent call last)",
      "\u001B[36mCell\u001B[39m\u001B[36m \u001B[39m\u001B[32mIn[81]\u001B[39m\u001B[32m, line 12\u001B[39m\n\u001B[32m     10\u001B[39m proba = prediction(test)\n\u001B[32m     11\u001B[39m \u001B[38;5;28mprint\u001B[39m(proba)\n\u001B[32m---> \u001B[39m\u001B[32m12\u001B[39m \u001B[43mmain_node\u001B[49m\u001B[43m.\u001B[49m\u001B[43mnext\u001B[49m\u001B[43m(\u001B[49m\u001B[43mproba\u001B[49m\u001B[43m,\u001B[49m\u001B[43mclf\u001B[49m\u001B[43m,\u001B[49m\u001B[43mtree_json\u001B[49m\u001B[43m)\u001B[49m\n\u001B[32m     13\u001B[39m \u001B[38;5;28mprint\u001B[39m(main_node.text)\n",
      "\u001B[36mCell\u001B[39m\u001B[36m \u001B[39m\u001B[32mIn[71]\u001B[39m\u001B[32m, line 14\u001B[39m, in \u001B[36mnode.next\u001B[39m\u001B[34m(self, model_output, clf, tree)\u001B[39m\n\u001B[32m     11\u001B[39m     \u001B[38;5;28;01mif\u001B[39;00m clf.classes_[i] \u001B[38;5;129;01min\u001B[39;00m labels:\n\u001B[32m     12\u001B[39m         next_.append(model_output[i])\n\u001B[32m---> \u001B[39m\u001B[32m14\u001B[39m pred_class = labels[next_.index(\u001B[38;5;28;43mmax\u001B[39;49m\u001B[43m(\u001B[49m\u001B[43mnext_\u001B[49m\u001B[43m)\u001B[49m)]\n\u001B[32m     15\u001B[39m confidence = \u001B[38;5;28mmax\u001B[39m(next_)\n\u001B[32m     16\u001B[39m \u001B[38;5;28mprint\u001B[39m(confidence)\n",
      "\u001B[31mValueError\u001B[39m: max() arg is an empty sequence"
     ]
    }
   ],
   "execution_count": 81
  },
  {
   "metadata": {
    "ExecuteTime": {
     "end_time": "2025-08-12T12:07:38.658917Z",
     "start_time": "2025-08-12T12:07:38.650736Z"
    }
   },
   "cell_type": "code",
   "source": [
    "def gett(t):\n",
    "    print(t)\n",
    "\n",
    "d = {\"ok\":gett}\n",
    "d[\"ok\"](\"hey\")"
   ],
   "id": "7ddfd4c3e5a5b36",
   "outputs": [
    {
     "name": "stdout",
     "output_type": "stream",
     "text": [
      "hey\n"
     ]
    }
   ],
   "execution_count": 34
  },
  {
   "metadata": {},
   "cell_type": "code",
   "outputs": [],
   "execution_count": null,
   "source": "",
   "id": "c6cefa32230525c0"
  }
 ],
 "metadata": {
  "kernelspec": {
   "display_name": "Python 3",
   "language": "python",
   "name": "python3"
  },
  "language_info": {
   "codemirror_mode": {
    "name": "ipython",
    "version": 2
   },
   "file_extension": ".py",
   "mimetype": "text/x-python",
   "name": "python",
   "nbconvert_exporter": "python",
   "pygments_lexer": "ipython2",
   "version": "2.7.6"
  }
 },
 "nbformat": 4,
 "nbformat_minor": 5
}
