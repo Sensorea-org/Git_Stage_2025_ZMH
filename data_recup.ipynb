{
 "cells": [
  {
   "metadata": {},
   "cell_type": "markdown",
   "source": "# récupération des commandes",
   "id": "480f05ad8ca4e4de"
  },
  {
   "metadata": {},
   "cell_type": "markdown",
   "source": "### récupération heure\n",
   "id": "8cc9ea525cd22c79"
  },
  {
   "metadata": {
    "ExecuteTime": {
     "end_time": "2025-07-28T11:06:53.905653Z",
     "start_time": "2025-07-28T11:06:53.898750Z"
    }
   },
   "cell_type": "code",
   "source": [
    "import datetime\n",
    "from datetime import timedelta\n",
    "t1 = datetime.datetime.today()\n",
    "t2 = datetime.datetime(2014, 10, 9, 11, 22, 33)\n",
    "min = timedelta(days=0, hours=0, minutes=15, seconds=0)\n",
    "### écriture et lecture de fichiers json\n",
    "print(t1-t2>min)\n"
   ],
   "id": "20b59a6421443157",
   "outputs": [
    {
     "name": "stdout",
     "output_type": "stream",
     "text": [
      "True\n"
     ]
    }
   ],
   "execution_count": 1
  },
  {
   "metadata": {},
   "cell_type": "markdown",
   "source": "### écriture et lecture de fichiers json",
   "id": "5b3494ff1937de87"
  },
  {
   "metadata": {
    "ExecuteTime": {
     "end_time": "2025-07-28T11:06:54.282411Z",
     "start_time": "2025-07-28T11:06:54.271383Z"
    }
   },
   "cell_type": "code",
   "source": [
    "\n",
    "import json\n",
    "def writing_input(cmds,temp_ext):\n",
    "    data = {\"commandes\":cmds,\n",
    "            \"temp_ext\":temp_ext}\n",
    "    with open(\"C:/Users\\hugom\\OneDrive\\Documents\\Stage_2025\\data/cmds.json\", \"w+\") as f:\n",
    "        json.dump(data, f, indent=4)\n",
    "        f.close()\n",
    "    print(f\"{cmds} written to C:/Users\\hugom\\OneDrive\\Documents\\Stage_2025\\data/cmds.json\")\n",
    "writing_input(1,2)\n",
    "with open(\"C:/Users\\hugom\\OneDrive\\Documents\\Stage_2025\\data/cmds.json\", \"r\") as f:\n",
    "    data_loaded = json.load(f)\n",
    "    print(data_loaded)\n",
    "\n",
    "import json\n",
    "def writing_trends(data):\n",
    "    print(\"writting...✒️\")\n",
    "    with open(\"C:/Users\\hugom\\OneDrive\\Documents\\Stage_2025\\data/trends.json\", \"w+\") as f:\n",
    "        json.dump(data, f, indent=4)\n",
    "        f.close()\n",
    "    print(f\"{data} written to C:/Users\\hugom\\OneDrive\\Documents\\Stage_2025\\data/trends.json\")\n",
    "\n",
    "writing_trends(1)\n",
    "with open(\"C:/Users\\hugom\\OneDrive\\Documents\\Stage_2025\\data/trends.json\", \"r\") as f:\n",
    "    data_loaded = json.load(f)\n",
    "    print(data_loaded)"
   ],
   "id": "9ac864d2442a814a",
   "outputs": [
    {
     "name": "stdout",
     "output_type": "stream",
     "text": [
      "1 written to C:/Users\\hugom\\OneDrive\\Documents\\Stage_2025\\data/cmds.json\n",
      "{'commandes': 1, 'temp_ext': 2}\n",
      "writting...✒️\n",
      "1 written to C:/Users\\hugom\\OneDrive\\Documents\\Stage_2025\\data/trends.json\n",
      "1\n"
     ]
    }
   ],
   "execution_count": 2
  },
  {
   "metadata": {},
   "cell_type": "markdown",
   "source": "### connexion bacnet",
   "id": "a32f3cb9bcb7397e"
  },
  {
   "metadata": {
    "ExecuteTime": {
     "end_time": "2025-07-28T11:06:55.253335Z",
     "start_time": "2025-07-28T11:06:54.713756Z"
    }
   },
   "cell_type": "code",
   "source": [
    "import BAC0\n",
    "import time\n",
    "bacnet = BAC0.connect('172.21.212.141')\n",
    "w = 20"
   ],
   "id": "d8e05876fcac2eeb",
   "outputs": [
    {
     "name": "stdout",
     "output_type": "stream",
     "text": [
      "2025-07-28 13:06:55,228 - INFO    | Starting BAC0 version 20.11.21 (Lite)\n",
      "2025-07-28 13:06:55,229 - INFO    | Use BAC0.log_level to adjust verbosity of the app.\n",
      "2025-07-28 13:06:55,230 - INFO    | Ex. BAC0.log_level('silence') or BAC0.log_level('error')\n",
      "2025-07-28 13:06:55,230 - INFO    | Starting TaskManager\n",
      "2025-07-28 13:06:55,231 - INFO    | Using ip : 172.21.212.141\n",
      "2025-07-28 13:06:55,233 - INFO    | Starting app...\n",
      "2025-07-28 13:06:55,234 - INFO    | BAC0 started\n",
      "2025-07-28 13:06:55,235 - INFO    | Registered as Simple BACnet/IP App\n",
      "2025-07-28 13:06:55,250 - INFO    | Update Local COV Task started\n"
     ]
    }
   ],
   "execution_count": 3
  },
  {
   "metadata": {
    "ExecuteTime": {
     "end_time": "2025-07-28T11:10:03.995488Z",
     "start_time": "2025-07-28T11:10:01.317935Z"
    }
   },
   "cell_type": "code",
   "source": [
    "def get_cmds(cmds):\n",
    "    chaufferie = BAC0.device('192.168.1.17',2886551,bacnet) #RPC_March 1.7.1 ; AS-27-2 BACnet Interface 2020 Saison 2\n",
    "    objects = chaufferie.points\n",
    "    temp = []\n",
    "    for i in objects:\n",
    "        print(i)\n",
    "        t = str(i)\n",
    "        t = t.split(\" \")\n",
    "        cmd = t[2] in [\"True\", \"true\"]\n",
    "        temp.append(int(cmd))\n",
    "    cmds.append(temp)\n",
    "    return cmds\n",
    "def get_occupation(occupation_list):\n",
    "    ES_2807664 = BAC0.device('192.168.1.101', 2807664, bacnet)\n",
    "    objects = ES_2807664.points\n",
    "    for i in objects:\n",
    "        if \"ES_2807664/occupation\" in str(i):\n",
    "            t = str(i)\n",
    "            print(t)\n",
    "            t = t.split(\" \")\n",
    "            occ = float(t[2])\n",
    "            occupation_list.append(occ)\n",
    "            break\n",
    "    print(occupation_list)\n",
    "    return occupation_list\n",
    "def get_temp(temp_list):\n",
    "    ES_2807664 = BAC0.device('192.168.1.101', 2807664, bacnet)\n",
    "    objects = ES_2807664.points\n",
    "    for i in objects:\n",
    "        print(i)\n",
    "        if \"ES_2807664/temp_ext\" in str(i):\n",
    "            t = str(i)\n",
    "            print(t)\n",
    "            t = t.split(\" \")\n",
    "            tmp = float(t[2])\n",
    "            temp_list.append(tmp)\n",
    "    print(temp_list)\n",
    "    return temp_list\n",
    "def degres_heure_glissants(temperatures, t_base=15.0):\n",
    "    dh_glissant = sum(t_base - t for t in temperatures)\n",
    "    return dh_glissant\n",
    "def write(val):\n",
    "    ES_2807664 = BAC0.device('192.168.1.101', 2807664, bacnet)\n",
    "    ES_2807664['degré jour']=val\n",
    "occupation_list = get_occupation([])\n",
    "temp_list = get_temp([])\n",
    "cmds_list = get_cmds([])"
   ],
   "id": "63d325474adfdffd",
   "outputs": [
    {
     "name": "stdout",
     "output_type": "stream",
     "text": [
      "2025-07-28 13:10:01,324 - INFO    | Changing device state to DeviceDisconnected'>\n",
      "2025-07-28 13:10:01,488 - INFO    | Changing device state to RPMDeviceConnected'>\n",
      "2025-07-28 13:10:01,572 - INFO    | Device 2807664:[ES_2807664] found... building points list\n",
      "2025-07-28 13:10:01,621 - INFO    | Ready!\n",
      "2025-07-28 13:10:01,622 - INFO    | Device defined for normal polling with a delay of 10sec\n",
      "2025-07-28 13:10:01,623 - INFO    | Polling started, values read every 10 seconds\n",
      "ES_2807664/occupation : 40.62 noUnits\n",
      "[40.62]\n",
      "2025-07-28 13:10:01,625 - INFO    | Changing device state to DeviceDisconnected'>\n",
      "2025-07-28 13:10:01,666 - INFO    | Changing device state to RPMDeviceConnected'>\n",
      "2025-07-28 13:10:01,713 - INFO    | Device 2807664:[ES_2807664] found... building points list\n",
      "2025-07-28 13:10:01,747 - INFO    | Ready!\n",
      "2025-07-28 13:10:01,747 - INFO    | Device defined for normal polling with a delay of 10sec\n",
      "2025-07-28 13:10:01,748 - INFO    | Polling started, values read every 10 seconds\n",
      "ES_2807664/occupation : 40.62 noUnits\n",
      "ES_2807664/temp_ext : 17.00 noUnits\n",
      "ES_2807664/temp_ext : 17.00 noUnits\n",
      "ES_2807664/degré jour : -73.00 noUnits\n",
      "[17.0]\n",
      "2025-07-28 13:10:01,751 - INFO    | Changing device state to DeviceDisconnected'>\n",
      "2025-07-28 13:10:02,795 - INFO    | Changing device state to RPMDeviceConnected'>\n",
      "2025-07-28 13:10:03,855 - INFO    | Device 2886551:[AS-P_2886551] found... building points list\n",
      "2025-07-28 13:10:03,974 - INFO    | Ready!\n",
      "2025-07-28 13:10:03,974 - INFO    | Device defined for normal polling with a delay of 10sec\n",
      "2025-07-28 13:10:03,974 - INFO    | Polling started, values read every 10 seconds\n",
      "AS-P_2886551/test_boiler1 : True\n",
      "AS-P_2886551/boiler2 : True\n",
      "AS-P_2886551/boiler3 : False\n",
      "AS-P_2886551/Distribution__Ht_+2_Pmp2A : True\n",
      "AS-P_2886551/Distribution__Ht_+2_Pmp2B : True\n",
      "AS-P_2886551/Distribution__Ht_+27_Pmp1A : False\n",
      "AS-P_2886551/Distribution__Ht_+27_Pmp1B : True\n",
      "AS-P_2886551/Distribution__Ht_-4_Pmp3A : False\n",
      "AS-P_2886551/Distribution__Ht_-4_Pmp3B : True\n",
      "AS-P_2886551/Distribution__Ht_Rad_Pmp1 : False\n",
      "AS-P_2886551/Distribution__Ht_Rad_Pmp2 : False\n",
      "AS-P_2886551/Production_cogen : True\n"
     ]
    }
   ],
   "execution_count": 9
  },
  {
   "metadata": {
    "ExecuteTime": {
     "end_time": "2025-07-28T11:26:59.476893Z",
     "start_time": "2025-07-28T11:26:50.940419Z"
    }
   },
   "cell_type": "code",
   "source": [
    "water = []\n",
    "elec = []\n",
    "gaz = []\n",
    "dj_list = []\n",
    "temp_list=[17.0, 17.0, 17.0, 17.0, 17.0, 17.0, 17.0, 17.0, 17.0, 17.0, 17.0, 17.0, 17.0, 17.0, 17.0, 17.0, 17.0, 17.0, 17.0, 17.0]\n",
    "occupation_list = [40.62, 40.86, 40.86, 40.86, 40.86, 40.86, 40.86, 40.86, 40.86, 40.86, 40.86, 40.86, 40.86, 40.86, 40.86, 40.86, 40.86, 40.86, 40.86, 40.86]\n",
    "t = 25\n",
    "min = timedelta(days=0, hours=0, minutes=0, seconds=1)\n",
    "t1 = datetime.datetime.today()\n",
    "t1b = datetime.datetime.today().hour-1\n",
    "data = {\"occupation_list\":occupation_list,\n",
    "        \"water consumption\":water,\n",
    "        \"electricity consumption\":elec,\n",
    "        \"gaz consumption\":gaz,\n",
    "        \"temp_ext\":temp_list,\n",
    "        \"dj\":dj_list,\n",
    "        'commandes': cmds_list}\n",
    "while True:\n",
    "    #padding d'initiation\n",
    "    if len(cmds_list)<w:\n",
    "        while (len(cmds_list)<w):\n",
    "            cmds_list = get_cmds(cmds_list)\n",
    "    if len(occupation_list)<w:\n",
    "        while (len(occupation_list)<w):\n",
    "            occupation_list = get_occupation(occupation_list)\n",
    "    if len(temp_list)<w:\n",
    "        while (len(temp_list)<w):\n",
    "            temp_list = get_temp(temp_list)\n",
    "    if len(dj_list)<(w/2):\n",
    "        while (len(dj_list)<(w/2)):\n",
    "            dj_list.append(degres_heure_glissants(temp_list)/(len(dj_list)+1))\n",
    "    t2 = datetime.datetime.today()\n",
    "    if (t2-t1)>=min:\n",
    "        #ajout température\n",
    "        temp_list = temp_list[1:]\n",
    "        temp_list = get_temp(temp_list)\n",
    "        data['temp_ext'] = temp_list\n",
    "        #ecriture des commandes\n",
    "        t1 = datetime.datetime.today()\n",
    "        cmds_list = cmds_list[1:]\n",
    "        cmds_list = get_cmds(cmds_list)\n",
    "        data['commandes'] = cmds_list\n",
    "        #ecriture des trends\n",
    "        occupation_list = occupation_list[1:]\n",
    "        occupation_list = get_occupation(occupation_list)\n",
    "        data['occupation_list'] = occupation_list\n",
    "        writing_trends(data)\n",
    "    t2b = datetime.datetime.today().hour\n",
    "    if t2b!=t1b:\n",
    "        print(\"here i m\")\n",
    "        #ajout température\n",
    "        temp_list = temp_list[1:]\n",
    "        temp_list = get_temp(temp_list)\n",
    "        t1b = datetime.datetime.today().hour\n",
    "        dj = degres_heure_glissants(temp_list)\n",
    "        dj_list = dj_list[1:]\n",
    "        dj_list.append(dj)\n",
    "        print(dj_list)\n",
    "        data['dj'] = dj_list\n",
    "        writing_trends(data)\n",
    "\n",
    "\n"
   ],
   "id": "a12c7f5e72856609",
   "outputs": [
    {
     "name": "stdout",
     "output_type": "stream",
     "text": [
      "here i m\n",
      "2025-07-28 13:26:50,952 - INFO    | Changing device state to DeviceDisconnected'>\n",
      "2025-07-28 13:26:51,115 - INFO    | Changing device state to RPMDeviceConnected'>\n",
      "2025-07-28 13:26:51,186 - INFO    | Device 2807664:[ES_2807664] found... building points list\n",
      "2025-07-28 13:26:52,229 - INFO    | Ready!\n",
      "2025-07-28 13:26:52,231 - INFO    | Device defined for normal polling with a delay of 10sec\n",
      "2025-07-28 13:26:52,232 - INFO    | Polling started, values read every 10 seconds\n",
      "ES_2807664/occupation : 40.86 noUnits\n",
      "ES_2807664/temp_ext : 18.00 noUnits\n",
      "ES_2807664/temp_ext : 18.00 noUnits\n",
      "ES_2807664/degré jour : -73.00 noUnits\n",
      "[17.0, 17.0, 17.0, 17.0, 17.0, 17.0, 17.0, 17.0, 17.0, 17.0, 17.0, 17.0, 17.0, 17.0, 17.0, 17.0, 17.0, 17.0, 17.0, 18.0]\n",
      "[-20.0, -13.333333333333334, -10.0, -8.0, -6.666666666666667, -5.714285714285714, -5.0, -4.444444444444445, -4.0, -41.0]\n",
      "writting...✒️\n",
      "{'occupation_list': [40.62, 40.86, 40.86, 40.86, 40.86, 40.86, 40.86, 40.86, 40.86, 40.86, 40.86, 40.86, 40.86, 40.86, 40.86, 40.86, 40.86, 40.86, 40.86, 40.86], 'water consumption': [], 'electricity consumption': [], 'gaz consumption': [], 'temp_ext': [17.0, 17.0, 17.0, 17.0, 17.0, 17.0, 17.0, 17.0, 17.0, 17.0, 17.0, 17.0, 17.0, 17.0, 17.0, 17.0, 17.0, 17.0, 17.0, 17.0], 'dj': [-20.0, -13.333333333333334, -10.0, -8.0, -6.666666666666667, -5.714285714285714, -5.0, -4.444444444444445, -4.0, -41.0], 'commandes': [[1, 1, 0, 1, 1, 0, 1, 0, 1, 0, 0, 1], [1, 1, 0, 1, 1, 0, 1, 0, 1, 0, 0, 1], [1, 1, 0, 1, 1, 0, 1, 0, 1, 0, 0, 1], [1, 1, 0, 1, 1, 0, 1, 0, 1, 0, 0, 1], [1, 1, 0, 1, 1, 0, 1, 0, 1, 0, 0, 1], [1, 1, 0, 1, 1, 0, 1, 0, 1, 0, 0, 1], [1, 1, 0, 1, 1, 0, 1, 0, 1, 0, 0, 1], [1, 1, 0, 1, 1, 0, 1, 0, 1, 0, 0, 1], [1, 1, 0, 1, 1, 0, 1, 0, 1, 0, 0, 1], [1, 1, 0, 1, 1, 0, 1, 0, 1, 0, 0, 1], [1, 1, 0, 1, 1, 0, 1, 0, 1, 0, 0, 1], [1, 1, 0, 1, 1, 0, 1, 0, 1, 0, 0, 1], [1, 1, 0, 1, 1, 0, 1, 0, 1, 0, 0, 1], [1, 1, 0, 1, 1, 0, 1, 0, 1, 0, 0, 1], [1, 1, 0, 1, 1, 0, 1, 0, 1, 0, 0, 1], [1, 1, 0, 1, 1, 0, 1, 0, 1, 0, 0, 1], [1, 1, 0, 1, 1, 0, 1, 0, 1, 0, 0, 1], [1, 1, 0, 1, 1, 0, 1, 0, 1, 0, 0, 1], [1, 1, 0, 1, 1, 0, 1, 0, 1, 0, 0, 1], [1, 1, 0, 1, 1, 0, 1, 0, 1, 0, 0, 1]]} written to C:/Users\\hugom\\OneDrive\\Documents\\Stage_2025\\data/trends.json\n",
      "2025-07-28 13:26:52,244 - INFO    | Changing device state to DeviceDisconnected'>\n",
      "2025-07-28 13:26:53,294 - INFO    | Changing device state to RPMDeviceConnected'>\n",
      "2025-07-28 13:26:53,358 - INFO    | Device 2807664:[ES_2807664] found... building points list\n",
      "2025-07-28 13:26:54,396 - INFO    | Ready!\n",
      "2025-07-28 13:26:54,396 - INFO    | Device defined for normal polling with a delay of 10sec\n",
      "2025-07-28 13:26:54,397 - INFO    | Polling started, values read every 10 seconds\n",
      "ES_2807664/occupation : 40.86 noUnits\n",
      "ES_2807664/temp_ext : 18.00 noUnits\n",
      "ES_2807664/temp_ext : 18.00 noUnits\n",
      "ES_2807664/degré jour : -73.00 noUnits\n",
      "[17.0, 17.0, 17.0, 17.0, 17.0, 17.0, 17.0, 17.0, 17.0, 17.0, 17.0, 17.0, 17.0, 17.0, 17.0, 17.0, 17.0, 17.0, 18.0, 18.0]\n",
      "2025-07-28 13:26:54,400 - INFO    | Changing device state to DeviceDisconnected'>\n",
      "2025-07-28 13:26:55,458 - INFO    | Changing device state to RPMDeviceConnected'>\n",
      "2025-07-28 13:26:56,528 - INFO    | Device 2886551:[AS-P_2886551] found... building points list\n",
      "2025-07-28 13:26:56,631 - INFO    | Ready!\n",
      "2025-07-28 13:26:56,633 - INFO    | Device defined for normal polling with a delay of 10sec\n",
      "2025-07-28 13:26:56,633 - INFO    | Polling started, values read every 10 seconds\n",
      "AS-P_2886551/test_boiler1 : True\n",
      "AS-P_2886551/boiler2 : True\n",
      "AS-P_2886551/boiler3 : False\n",
      "AS-P_2886551/Distribution__Ht_+2_Pmp2A : True\n",
      "AS-P_2886551/Distribution__Ht_+2_Pmp2B : True\n",
      "AS-P_2886551/Distribution__Ht_+27_Pmp1A : False\n",
      "AS-P_2886551/Distribution__Ht_+27_Pmp1B : True\n",
      "AS-P_2886551/Distribution__Ht_-4_Pmp3A : False\n",
      "AS-P_2886551/Distribution__Ht_-4_Pmp3B : True\n",
      "AS-P_2886551/Distribution__Ht_Rad_Pmp1 : False\n",
      "AS-P_2886551/Distribution__Ht_Rad_Pmp2 : False\n",
      "AS-P_2886551/Production_cogen : True\n",
      "2025-07-28 13:26:56,651 - INFO    | Changing device state to DeviceDisconnected'>\n",
      "2025-07-28 13:26:56,691 - INFO    | Changing device state to RPMDeviceConnected'>\n",
      "2025-07-28 13:26:56,748 - INFO    | Device 2807664:[ES_2807664] found... building points list\n",
      "2025-07-28 13:26:56,796 - INFO    | Ready!\n",
      "2025-07-28 13:26:56,797 - INFO    | Device defined for normal polling with a delay of 10sec\n",
      "2025-07-28 13:26:56,798 - INFO    | Polling started, values read every 10 seconds\n",
      "ES_2807664/occupation : 40.86 noUnits\n",
      "[40.86, 40.86, 40.86, 40.86, 40.86, 40.86, 40.86, 40.86, 40.86, 40.86, 40.86, 40.86, 40.86, 40.86, 40.86, 40.86, 40.86, 40.86, 40.86, 40.86]\n",
      "writting...✒️\n",
      "{'occupation_list': [40.86, 40.86, 40.86, 40.86, 40.86, 40.86, 40.86, 40.86, 40.86, 40.86, 40.86, 40.86, 40.86, 40.86, 40.86, 40.86, 40.86, 40.86, 40.86, 40.86], 'water consumption': [], 'electricity consumption': [], 'gaz consumption': [], 'temp_ext': [17.0, 17.0, 17.0, 17.0, 17.0, 17.0, 17.0, 17.0, 17.0, 17.0, 17.0, 17.0, 17.0, 17.0, 17.0, 17.0, 17.0, 17.0, 18.0, 18.0], 'dj': [-20.0, -13.333333333333334, -10.0, -8.0, -6.666666666666667, -5.714285714285714, -5.0, -4.444444444444445, -4.0, -41.0], 'commandes': [[1, 1, 0, 1, 1, 0, 1, 0, 1, 0, 0, 1], [1, 1, 0, 1, 1, 0, 1, 0, 1, 0, 0, 1], [1, 1, 0, 1, 1, 0, 1, 0, 1, 0, 0, 1], [1, 1, 0, 1, 1, 0, 1, 0, 1, 0, 0, 1], [1, 1, 0, 1, 1, 0, 1, 0, 1, 0, 0, 1], [1, 1, 0, 1, 1, 0, 1, 0, 1, 0, 0, 1], [1, 1, 0, 1, 1, 0, 1, 0, 1, 0, 0, 1], [1, 1, 0, 1, 1, 0, 1, 0, 1, 0, 0, 1], [1, 1, 0, 1, 1, 0, 1, 0, 1, 0, 0, 1], [1, 1, 0, 1, 1, 0, 1, 0, 1, 0, 0, 1], [1, 1, 0, 1, 1, 0, 1, 0, 1, 0, 0, 1], [1, 1, 0, 1, 1, 0, 1, 0, 1, 0, 0, 1], [1, 1, 0, 1, 1, 0, 1, 0, 1, 0, 0, 1], [1, 1, 0, 1, 1, 0, 1, 0, 1, 0, 0, 1], [1, 1, 0, 1, 1, 0, 1, 0, 1, 0, 0, 1], [1, 1, 0, 1, 1, 0, 1, 0, 1, 0, 0, 1], [1, 1, 0, 1, 1, 0, 1, 0, 1, 0, 0, 1], [1, 1, 0, 1, 1, 0, 1, 0, 1, 0, 0, 1], [1, 1, 0, 1, 1, 0, 1, 0, 1, 0, 0, 1], [1, 1, 0, 1, 1, 0, 1, 0, 1, 0, 0, 1]]} written to C:/Users\\hugom\\OneDrive\\Documents\\Stage_2025\\data/trends.json\n",
      "2025-07-28 13:26:56,801 - INFO    | Changing device state to DeviceDisconnected'>\n",
      "2025-07-28 13:26:56,852 - INFO    | Changing device state to RPMDeviceConnected'>\n",
      "2025-07-28 13:26:56,918 - INFO    | Device 2807664:[ES_2807664] found... building points list\n",
      "2025-07-28 13:26:56,969 - INFO    | Ready!\n",
      "2025-07-28 13:26:56,970 - INFO    | Device defined for normal polling with a delay of 10sec\n",
      "2025-07-28 13:26:56,971 - INFO    | Polling started, values read every 10 seconds\n",
      "ES_2807664/occupation : 40.86 noUnits\n",
      "ES_2807664/temp_ext : 18.00 noUnits\n",
      "ES_2807664/temp_ext : 18.00 noUnits\n",
      "ES_2807664/degré jour : -73.00 noUnits\n",
      "[17.0, 17.0, 17.0, 17.0, 17.0, 17.0, 17.0, 17.0, 17.0, 17.0, 17.0, 17.0, 17.0, 17.0, 17.0, 17.0, 17.0, 18.0, 18.0, 18.0]\n",
      "2025-07-28 13:26:56,976 - INFO    | Changing device state to DeviceDisconnected'>\n",
      "2025-07-28 13:26:58,036 - INFO    | Changing device state to RPMDeviceConnected'>\n",
      "2025-07-28 13:26:58,126 - INFO    | Device 2886551:[AS-P_2886551] found... building points list\n",
      "2025-07-28 13:26:58,262 - INFO    | Ready!\n",
      "2025-07-28 13:26:58,263 - INFO    | Device defined for normal polling with a delay of 10sec\n",
      "2025-07-28 13:26:58,263 - INFO    | Polling started, values read every 10 seconds\n",
      "AS-P_2886551/test_boiler1 : True\n",
      "AS-P_2886551/boiler2 : True\n",
      "AS-P_2886551/boiler3 : False\n",
      "AS-P_2886551/Distribution__Ht_+2_Pmp2A : True\n",
      "AS-P_2886551/Distribution__Ht_+2_Pmp2B : True\n",
      "AS-P_2886551/Distribution__Ht_+27_Pmp1A : False\n",
      "AS-P_2886551/Distribution__Ht_+27_Pmp1B : True\n",
      "AS-P_2886551/Distribution__Ht_-4_Pmp3A : False\n",
      "AS-P_2886551/Distribution__Ht_-4_Pmp3B : True\n",
      "AS-P_2886551/Distribution__Ht_Rad_Pmp1 : False\n",
      "AS-P_2886551/Distribution__Ht_Rad_Pmp2 : False\n",
      "AS-P_2886551/Production_cogen : True\n",
      "2025-07-28 13:26:58,281 - INFO    | Changing device state to DeviceDisconnected'>\n"
     ]
    },
    {
     "ename": "KeyboardInterrupt",
     "evalue": "",
     "output_type": "error",
     "traceback": [
      "\u001B[31m---------------------------------------------------------------------------\u001B[39m",
      "\u001B[31mKeyboardInterrupt\u001B[39m                         Traceback (most recent call last)",
      "\u001B[36mCell\u001B[39m\u001B[36m \u001B[39m\u001B[32mIn[27]\u001B[39m\u001B[32m, line 45\u001B[39m\n\u001B[32m     43\u001B[39m \u001B[38;5;66;03m#ecriture des trends\u001B[39;00m\n\u001B[32m     44\u001B[39m occupation_list = occupation_list[\u001B[32m1\u001B[39m:]\n\u001B[32m---> \u001B[39m\u001B[32m45\u001B[39m occupation_list = \u001B[43mget_occupation\u001B[49m\u001B[43m(\u001B[49m\u001B[43moccupation_list\u001B[49m\u001B[43m)\u001B[49m\n\u001B[32m     46\u001B[39m data[\u001B[33m'\u001B[39m\u001B[33moccupation_list\u001B[39m\u001B[33m'\u001B[39m] = occupation_list\n\u001B[32m     47\u001B[39m writing_trends(data)\n",
      "\u001B[36mCell\u001B[39m\u001B[36m \u001B[39m\u001B[32mIn[9]\u001B[39m\u001B[32m, line 14\u001B[39m, in \u001B[36mget_occupation\u001B[39m\u001B[34m(occupation_list)\u001B[39m\n\u001B[32m     13\u001B[39m \u001B[38;5;28;01mdef\u001B[39;00m\u001B[38;5;250m \u001B[39m\u001B[34mget_occupation\u001B[39m(occupation_list):\n\u001B[32m---> \u001B[39m\u001B[32m14\u001B[39m     ES_2807664 = \u001B[43mBAC0\u001B[49m\u001B[43m.\u001B[49m\u001B[43mdevice\u001B[49m\u001B[43m(\u001B[49m\u001B[33;43m'\u001B[39;49m\u001B[33;43m192.168.1.101\u001B[39;49m\u001B[33;43m'\u001B[39;49m\u001B[43m,\u001B[49m\u001B[43m \u001B[49m\u001B[32;43m2807664\u001B[39;49m\u001B[43m,\u001B[49m\u001B[43m \u001B[49m\u001B[43mbacnet\u001B[49m\u001B[43m)\u001B[49m\n\u001B[32m     15\u001B[39m     objects = ES_2807664.points\n\u001B[32m     16\u001B[39m     \u001B[38;5;28;01mfor\u001B[39;00m i \u001B[38;5;129;01min\u001B[39;00m objects:\n",
      "\u001B[36mFile \u001B[39m\u001B[32m~\\OneDrive\\Documents\\Stage_2025\\Stage_env\\Lib\\site-packages\\BAC0\\core\\devices\\Device.py:193\u001B[39m, in \u001B[36mDevice.__init__\u001B[39m\u001B[34m(self, address, device_id, network, poll, from_backup, segmentation_supported, object_list, auto_save, save_resampling, clear_history_on_save, history_size)\u001B[39m\n\u001B[32m    187\u001B[39m \u001B[38;5;28;01melse\u001B[39;00m:\n\u001B[32m    188\u001B[39m     \u001B[38;5;28;01mif\u001B[39;00m (\n\u001B[32m    189\u001B[39m         \u001B[38;5;28mself\u001B[39m.properties.network\n\u001B[32m    190\u001B[39m         \u001B[38;5;129;01mand\u001B[39;00m \u001B[38;5;28mself\u001B[39m.properties.address\n\u001B[32m    191\u001B[39m         \u001B[38;5;129;01mand\u001B[39;00m \u001B[38;5;28mself\u001B[39m.properties.device_id \u001B[38;5;129;01mis\u001B[39;00m \u001B[38;5;129;01mnot\u001B[39;00m \u001B[38;5;28;01mNone\u001B[39;00m\n\u001B[32m    192\u001B[39m     ):\n\u001B[32m--> \u001B[39m\u001B[32m193\u001B[39m         \u001B[38;5;28;43mself\u001B[39;49m\u001B[43m.\u001B[49m\u001B[43mnew_state\u001B[49m\u001B[43m(\u001B[49m\u001B[43mDeviceDisconnected\u001B[49m\u001B[43m)\u001B[49m\n\u001B[32m    194\u001B[39m     \u001B[38;5;28;01melse\u001B[39;00m:\n\u001B[32m    195\u001B[39m         \u001B[38;5;28;01mraise\u001B[39;00m BadDeviceDefinition(\n\u001B[32m    196\u001B[39m             \u001B[33m\"\u001B[39m\u001B[33mPlease provide address, device id and network or specify from_backup argument\u001B[39m\u001B[33m\"\u001B[39m\n\u001B[32m    197\u001B[39m         )\n",
      "\u001B[36mFile \u001B[39m\u001B[32m~\\OneDrive\\Documents\\Stage_2025\\Stage_env\\Lib\\site-packages\\BAC0\\core\\devices\\Device.py:209\u001B[39m, in \u001B[36mDevice.new_state\u001B[39m\u001B[34m(self, newstate)\u001B[39m\n\u001B[32m    205\u001B[39m \u001B[38;5;28mself\u001B[39m._log.info(\n\u001B[32m    206\u001B[39m     \u001B[33m\"\u001B[39m\u001B[33mChanging device state to \u001B[39m\u001B[38;5;132;01m{}\u001B[39;00m\u001B[33m\"\u001B[39m.format(\u001B[38;5;28mstr\u001B[39m(newstate).split(\u001B[33m\"\u001B[39m\u001B[33m.\u001B[39m\u001B[33m\"\u001B[39m)[-\u001B[32m1\u001B[39m])\n\u001B[32m    207\u001B[39m )\n\u001B[32m    208\u001B[39m \u001B[38;5;28mself\u001B[39m.\u001B[34m__class__\u001B[39m = newstate\n\u001B[32m--> \u001B[39m\u001B[32m209\u001B[39m \u001B[38;5;28;43mself\u001B[39;49m\u001B[43m.\u001B[49m\u001B[43m_init_state\u001B[49m\u001B[43m(\u001B[49m\u001B[43m)\u001B[49m\n",
      "\u001B[36mFile \u001B[39m\u001B[32m~\\OneDrive\\Documents\\Stage_2025\\Stage_env\\Lib\\site-packages\\BAC0\\core\\devices\\Device.py:804\u001B[39m, in \u001B[36mDeviceDisconnected._init_state\u001B[39m\u001B[34m(self)\u001B[39m\n\u001B[32m    803\u001B[39m \u001B[38;5;28;01mdef\u001B[39;00m\u001B[38;5;250m \u001B[39m\u001B[34m_init_state\u001B[39m(\u001B[38;5;28mself\u001B[39m):\n\u001B[32m--> \u001B[39m\u001B[32m804\u001B[39m     \u001B[38;5;28;43mself\u001B[39;49m\u001B[43m.\u001B[49m\u001B[43mconnect\u001B[49m\u001B[43m(\u001B[49m\u001B[43m)\u001B[49m\n",
      "\u001B[36mFile \u001B[39m\u001B[32m~\\OneDrive\\Documents\\Stage_2025\\Stage_env\\Lib\\site-packages\\BAC0\\core\\devices\\Device.py:816\u001B[39m, in \u001B[36mDeviceDisconnected.connect\u001B[39m\u001B[34m(self, db)\u001B[39m\n\u001B[32m    814\u001B[39m \u001B[38;5;28;01melse\u001B[39;00m:\n\u001B[32m    815\u001B[39m     \u001B[38;5;28;01mtry\u001B[39;00m:\n\u001B[32m--> \u001B[39m\u001B[32m816\u001B[39m         name = \u001B[38;5;28;43mself\u001B[39;49m\u001B[43m.\u001B[49m\u001B[43mproperties\u001B[49m\u001B[43m.\u001B[49m\u001B[43mnetwork\u001B[49m\u001B[43m.\u001B[49m\u001B[43mread\u001B[49m\u001B[43m(\u001B[49m\n\u001B[32m    817\u001B[39m \u001B[43m            \u001B[49m\u001B[33;43m\"\u001B[39;49m\u001B[38;5;132;43;01m{}\u001B[39;49;00m\u001B[33;43m device \u001B[39;49m\u001B[38;5;132;43;01m{}\u001B[39;49;00m\u001B[33;43m objectName\u001B[39;49m\u001B[33;43m\"\u001B[39;49m\u001B[43m.\u001B[49m\u001B[43mformat\u001B[49m\u001B[43m(\u001B[49m\n\u001B[32m    818\u001B[39m \u001B[43m                \u001B[49m\u001B[38;5;28;43mself\u001B[39;49m\u001B[43m.\u001B[49m\u001B[43mproperties\u001B[49m\u001B[43m.\u001B[49m\u001B[43maddress\u001B[49m\u001B[43m,\u001B[49m\u001B[43m \u001B[49m\u001B[38;5;28;43mself\u001B[39;49m\u001B[43m.\u001B[49m\u001B[43mproperties\u001B[49m\u001B[43m.\u001B[49m\u001B[43mdevice_id\u001B[49m\n\u001B[32m    819\u001B[39m \u001B[43m            \u001B[49m\u001B[43m)\u001B[49m\n\u001B[32m    820\u001B[39m \u001B[43m        \u001B[49m\u001B[43m)\u001B[49m\n\u001B[32m    822\u001B[39m         segmentation = \u001B[38;5;28mself\u001B[39m.properties.network.read(\n\u001B[32m    823\u001B[39m             \u001B[33m\"\u001B[39m\u001B[38;5;132;01m{}\u001B[39;00m\u001B[33m device \u001B[39m\u001B[38;5;132;01m{}\u001B[39;00m\u001B[33m segmentationSupported\u001B[39m\u001B[33m\"\u001B[39m.format(\n\u001B[32m    824\u001B[39m                 \u001B[38;5;28mself\u001B[39m.properties.address, \u001B[38;5;28mself\u001B[39m.properties.device_id\n\u001B[32m    825\u001B[39m             )\n\u001B[32m    826\u001B[39m         )\n\u001B[32m    828\u001B[39m         \u001B[38;5;28;01mif\u001B[39;00m \u001B[38;5;129;01mnot\u001B[39;00m \u001B[38;5;28mself\u001B[39m.segmentation_supported \u001B[38;5;129;01mor\u001B[39;00m segmentation \u001B[38;5;129;01mnot\u001B[39;00m \u001B[38;5;129;01min\u001B[39;00m (\n\u001B[32m    829\u001B[39m             \u001B[33m\"\u001B[39m\u001B[33msegmentedTransmit\u001B[39m\u001B[33m\"\u001B[39m,\n\u001B[32m    830\u001B[39m             \u001B[33m\"\u001B[39m\u001B[33msegmentedBoth\u001B[39m\u001B[33m\"\u001B[39m,\n\u001B[32m    831\u001B[39m         ):\n",
      "\u001B[36mFile \u001B[39m\u001B[32m~\\OneDrive\\Documents\\Stage_2025\\Stage_env\\Lib\\site-packages\\BAC0\\core\\io\\Read.py:135\u001B[39m, in \u001B[36mReadProperty.read\u001B[39m\u001B[34m(self, args, arr_index, vendor_id, bacoid, timeout, prop_id_required)\u001B[39m\n\u001B[32m    131\u001B[39m \u001B[38;5;28;01mexcept\u001B[39;00m ReadPropertyException \u001B[38;5;28;01mas\u001B[39;00m error:\n\u001B[32m    132\u001B[39m     \u001B[38;5;66;03m# construction error\u001B[39;00m\n\u001B[32m    133\u001B[39m     \u001B[38;5;28mself\u001B[39m._log.exception(\u001B[33m\"\u001B[39m\u001B[33mexception: \u001B[39m\u001B[38;5;132;01m{!r}\u001B[39;00m\u001B[33m\"\u001B[39m.format(error))\n\u001B[32m--> \u001B[39m\u001B[32m135\u001B[39m \u001B[43miocb\u001B[49m\u001B[43m.\u001B[49m\u001B[43mwait\u001B[49m\u001B[43m(\u001B[49m\u001B[43m)\u001B[49m  \u001B[38;5;66;03m# Wait for BACnet response\u001B[39;00m\n\u001B[32m    137\u001B[39m \u001B[38;5;28;01mif\u001B[39;00m iocb.ioResponse:  \u001B[38;5;66;03m# successful response\u001B[39;00m\n\u001B[32m    138\u001B[39m     apdu = iocb.ioResponse\n",
      "\u001B[36mFile \u001B[39m\u001B[32m~\\OneDrive\\Documents\\Stage_2025\\Stage_env\\Lib\\site-packages\\bacpypes\\iocb.py:149\u001B[39m, in \u001B[36mIOCB.wait\u001B[39m\u001B[34m(self, *args, **kwargs)\u001B[39m\n\u001B[32m    146\u001B[39m \u001B[38;5;28;01mif\u001B[39;00m _debug: IOCB._debug(\u001B[33m\"\u001B[39m\u001B[33mwait(\u001B[39m\u001B[38;5;132;01m%d\u001B[39;00m\u001B[33m) \u001B[39m\u001B[38;5;132;01m%r\u001B[39;00m\u001B[33m \u001B[39m\u001B[38;5;132;01m%r\u001B[39;00m\u001B[33m\"\u001B[39m, \u001B[38;5;28mself\u001B[39m.ioID, args, kwargs)\n\u001B[32m    148\u001B[39m \u001B[38;5;66;03m# waiting from a non-daemon thread could be trouble\u001B[39;00m\n\u001B[32m--> \u001B[39m\u001B[32m149\u001B[39m \u001B[38;5;28;01mreturn\u001B[39;00m \u001B[38;5;28;43mself\u001B[39;49m\u001B[43m.\u001B[49m\u001B[43mioComplete\u001B[49m\u001B[43m.\u001B[49m\u001B[43mwait\u001B[49m\u001B[43m(\u001B[49m\u001B[43m*\u001B[49m\u001B[43margs\u001B[49m\u001B[43m,\u001B[49m\u001B[43m \u001B[49m\u001B[43m*\u001B[49m\u001B[43m*\u001B[49m\u001B[43mkwargs\u001B[49m\u001B[43m)\u001B[49m\n",
      "\u001B[36mFile \u001B[39m\u001B[32m~\\AppData\\Local\\Programs\\Python\\Python311\\Lib\\threading.py:622\u001B[39m, in \u001B[36mEvent.wait\u001B[39m\u001B[34m(self, timeout)\u001B[39m\n\u001B[32m    620\u001B[39m signaled = \u001B[38;5;28mself\u001B[39m._flag\n\u001B[32m    621\u001B[39m \u001B[38;5;28;01mif\u001B[39;00m \u001B[38;5;129;01mnot\u001B[39;00m signaled:\n\u001B[32m--> \u001B[39m\u001B[32m622\u001B[39m     signaled = \u001B[38;5;28;43mself\u001B[39;49m\u001B[43m.\u001B[49m\u001B[43m_cond\u001B[49m\u001B[43m.\u001B[49m\u001B[43mwait\u001B[49m\u001B[43m(\u001B[49m\u001B[43mtimeout\u001B[49m\u001B[43m)\u001B[49m\n\u001B[32m    623\u001B[39m \u001B[38;5;28;01mreturn\u001B[39;00m signaled\n",
      "\u001B[36mFile \u001B[39m\u001B[32m~\\AppData\\Local\\Programs\\Python\\Python311\\Lib\\threading.py:320\u001B[39m, in \u001B[36mCondition.wait\u001B[39m\u001B[34m(self, timeout)\u001B[39m\n\u001B[32m    318\u001B[39m \u001B[38;5;28;01mtry\u001B[39;00m:    \u001B[38;5;66;03m# restore state no matter what (e.g., KeyboardInterrupt)\u001B[39;00m\n\u001B[32m    319\u001B[39m     \u001B[38;5;28;01mif\u001B[39;00m timeout \u001B[38;5;129;01mis\u001B[39;00m \u001B[38;5;28;01mNone\u001B[39;00m:\n\u001B[32m--> \u001B[39m\u001B[32m320\u001B[39m         \u001B[43mwaiter\u001B[49m\u001B[43m.\u001B[49m\u001B[43macquire\u001B[49m\u001B[43m(\u001B[49m\u001B[43m)\u001B[49m\n\u001B[32m    321\u001B[39m         gotit = \u001B[38;5;28;01mTrue\u001B[39;00m\n\u001B[32m    322\u001B[39m     \u001B[38;5;28;01melse\u001B[39;00m:\n",
      "\u001B[31mKeyboardInterrupt\u001B[39m: "
     ]
    }
   ],
   "execution_count": 27
  },
  {
   "metadata": {},
   "cell_type": "code",
   "outputs": [],
   "execution_count": null,
   "source": "",
   "id": "8102a1d6b9e1f27c"
  }
 ],
 "metadata": {
  "kernelspec": {
   "display_name": "Python 3",
   "language": "python",
   "name": "python3"
  },
  "language_info": {
   "codemirror_mode": {
    "name": "ipython",
    "version": 2
   },
   "file_extension": ".py",
   "mimetype": "text/x-python",
   "name": "python",
   "nbconvert_exporter": "python",
   "pygments_lexer": "ipython2",
   "version": "2.7.6"
  }
 },
 "nbformat": 4,
 "nbformat_minor": 5
}
